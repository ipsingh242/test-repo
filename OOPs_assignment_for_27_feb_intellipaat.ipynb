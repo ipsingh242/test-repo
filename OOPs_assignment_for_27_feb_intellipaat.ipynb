{
  "cells": [
    {
      "cell_type": "markdown",
      "metadata": {
        "id": "view-in-github",
        "colab_type": "text"
      },
      "source": [
        "<a href=\"https://colab.research.google.com/github/ipsingh242/test-repo/blob/main/OOPs_assignment_for_27_feb_intellipaat.ipynb\" target=\"_parent\"><img src=\"https://colab.research.google.com/assets/colab-badge.svg\" alt=\"Open In Colab\"/></a>"
      ]
    },
    {
      "cell_type": "markdown",
      "id": "f5ce7af3",
      "metadata": {
        "id": "f5ce7af3"
      },
      "source": [
        "# oops assignment for 27 feb"
      ]
    },
    {
      "cell_type": "code",
      "execution_count": null,
      "id": "72beb30f",
      "metadata": {
        "id": "72beb30f"
      },
      "outputs": [],
      "source": [
        "from datetime import date\n",
        "\n",
        "class Employee:\n",
        "    def __init__(self):\n",
        "        self.EmployeeID = 0\n",
        "        self.Gender = \"\"\n",
        "        self.Salary = 0\n",
        "        self.PerformanceRating = 0.0\n",
        "\n",
        "    def get(self):\n",
        "        self.EmployeeID = int(input(\"Enter Employee ID: \"))\n",
        "        self.Gender = input(\"Enter Gender: \")[0].upper()\n",
        "        self.Salary = float(input(\"Enter Salary: \"))\n",
        "        while True:\n",
        "            try:\n",
        "                self.PerformanceRating = float(input(\"Enter Performance Rating (Out of 5): \"))\n",
        "                if 0 <= self.PerformanceRating <= 5:\n",
        "                    break\n",
        "                else:\n",
        "                    print(\"Performance Rating should be between 0 and 5.\")\n",
        "            except ValueError:\n",
        "                print(\"Invalid input. Please enter a valid number.\")\n",
        "\n",
        "class JoiningDetail:\n",
        "    def __init__(self):\n",
        "        self.DateOfJoining = date.today()\n",
        "\n",
        "    def getDoJ(self):\n",
        "        while True:\n",
        "            try:\n",
        "                day = int(input(\"Enter Day of Joining: \"))\n",
        "                month = int(input(\"Enter Month of Joining: \"))\n",
        "                year = int(input(\"Enter Year of Joining: \"))\n",
        "                self.DateOfJoining = date(year, month, day)\n",
        "                break\n",
        "            except ValueError:\n",
        "                print(\"Invalid date. Please enter a valid date.\")\n",
        "\n",
        "class Information(Employee, JoiningDetail):\n",
        "    def __init__(self):\n",
        "        Employee.__init__(self)\n",
        "        JoiningDetail.__init__(self)\n",
        "\n",
        "    def readData(self, employees):\n",
        "        employees_info = []\n",
        "        for i in range(employees):\n",
        "            emp = Information()\n",
        "            emp.get()\n",
        "            emp.getDoJ()\n",
        "            employees_info.append(emp)\n",
        "\n",
        "        # Calculate top 3 employees based on PerformanceRating\n",
        "        top_employees = sorted(employees_info, key=lambda x: x.PerformanceRating, reverse=True)[:3]\n",
        "\n",
        "        # Display details in Ascending order of Date Of Joining\n",
        "        top_employees_sorted = sorted(top_employees, key=lambda x: x.DateOfJoining)\n",
        "\n",
        "        print(\"\\nTop 3 Employees based on Performance Rating and Ascending Order of Joining Date:\")\n",
        "        for emp in top_employees_sorted:\n",
        "            print(f\"Employee ID: {emp.EmployeeID}, Gender: {emp.Gender}, Salary: {emp.Salary}, \"\n",
        "                  f\"Performance Rating: {emp.PerformanceRating}, Date Of Joining: {emp.DateOfJoining}\")\n",
        "\n",
        "\n",
        "if __name__ == \"__main__\":\n",
        "    num_employees = int(input(\"Enter the number of employees: \"))\n",
        "    information_obj = Information()\n",
        "    information_obj.readData(num_employees)\n"
      ]
    },
    {
      "cell_type": "markdown",
      "id": "b3d33f99",
      "metadata": {
        "id": "b3d33f99"
      },
      "source": [
        "# # ques 2"
      ]
    },
    {
      "cell_type": "code",
      "execution_count": null,
      "id": "744549d4",
      "metadata": {
        "id": "744549d4"
      },
      "outputs": [],
      "source": [
        "class Vehicle:\n",
        "    def __init__(self, vehicle_type):\n",
        "        self.vehicle_type = vehicle_type\n",
        "\n",
        "    def Fare(self, fare):\n",
        "        return fare\n",
        "\n",
        "\n",
        "if __name__ == \"__main__\":\n",
        "    # Creating instances\n",
        "    Bus = Vehicle(\"Bus\")\n",
        "    Car = Vehicle(\"Car\")\n",
        "    Train = Vehicle(\"Train\")\n",
        "    Truck = Vehicle(\"Truck\")\n",
        "    Ship = Vehicle(\"Ship\")\n",
        "\n",
        "\n",
        "    bus_fare = float(input(\"Enter the fare for Bus: \"))\n",
        "    car_fare = float(input(\"Enter the fare for Car: \"))\n",
        "    train_fare = float(input(\"Enter the fare for Train: \"))\n",
        "    truck_fare = float(input(\"Enter the fare for Truck: \"))\n",
        "    ship_fare = float(input(\"Enter the fare for Ship: \"))\n",
        "\n",
        "    # Calling the Fare function for each vehicle\n",
        "    total_fare = (\n",
        "        Bus.Fare(bus_fare)\n",
        "        + Car.Fare(car_fare)\n",
        "        + Train.Fare(train_fare)\n",
        "        + Truck.Fare(truck_fare)\n",
        "        + Ship.Fare(ship_fare)\n",
        "    )\n",
        "\n",
        "    print(f\"Total Fare for all vehicles: {total_fare}\")\n"
      ]
    },
    {
      "cell_type": "markdown",
      "id": "9334cd46",
      "metadata": {
        "id": "9334cd46"
      },
      "source": [
        "# ques 3"
      ]
    },
    {
      "cell_type": "code",
      "execution_count": null,
      "id": "5990c833",
      "metadata": {
        "id": "5990c833"
      },
      "outputs": [],
      "source": [
        "\n",
        "def Max_Score(matches):\n",
        "    player_scores = {}\n",
        "\n",
        "    for match, players in matches.items():\n",
        "        for player, score in players.items():\n",
        "            if player not in player_scores:\n",
        "                player_scores[player] = {'total_score': 0, 'highest_score': 0}\n",
        "            player_scores[player]['total_score'] += score\n",
        "            player_scores[player]['highest_score'] = max(player_scores[player]['highest_score'], score)\n",
        "\n",
        "    top_player_total_score = max(player_scores, key=lambda x: player_scores[x]['total_score'])\n",
        "    top_score_total = player_scores[top_player_total_score]['total_score']\n",
        "\n",
        "    top_player_highest_score = max(player_scores, key=lambda x: player_scores[x]['highest_score'])\n",
        "    top_score_highest = player_scores[top_player_highest_score]['highest_score']\n",
        "\n",
        "    return (top_player_total_score, top_score_total), (top_player_highest_score, top_score_highest)\n",
        "\n",
        "# Example usage:\n",
        "matches = {'test1': {'Dhoni': 56, 'Balaji': 94}, 'test2': {'Balaji': 80, 'Dravid': 105}}\n",
        "result_total, result_highest = Max_Score(matches)\n",
        "\n",
        "print(f\"Top Player with Highest Total Score: {result_total[0]}, Total Score: {result_total[1]}\")\n",
        "print(f\"Top Player with Highest Individual Score: {result_highest[0]}, Highest Score: {result_highest[1]}\")\n"
      ]
    },
    {
      "cell_type": "markdown",
      "id": "8f013b6e",
      "metadata": {
        "id": "8f013b6e"
      },
      "source": [
        "# ques 4"
      ]
    },
    {
      "cell_type": "code",
      "execution_count": null,
      "id": "2bf25635",
      "metadata": {
        "id": "2bf25635"
      },
      "outputs": [],
      "source": [
        "import random\n",
        "\n",
        "def initialize_deck():\n",
        "    ranks = ['2', '3', '4', '5', '6', '7', '8', '9', '10', 'J', 'Q', 'K', 'A']\n",
        "    suits = ['Hearts', 'Diamonds', 'Clubs', 'Spades']\n",
        "    deck = [{'rank': rank, 'suit': suit} for rank in ranks for suit in suits]\n",
        "    return deck\n",
        "\n",
        "def play_card_game():\n",
        "    total_score = 0\n",
        "\n",
        "    while True:\n",
        "        deck = initialize_deck()\n",
        "        random.shuffle(deck)\n",
        "\n",
        "        score = 0\n",
        "        current_card = deck.pop()\n",
        "\n",
        "        while deck:\n",
        "            print(f\"\\nCurrent card: {current_card['rank']} of {current_card['suit']}\")\n",
        "\n",
        "            user_guess = input(\"Predict higher ('h') or lower ('l'): \").lower()\n",
        "\n",
        "            next_card = deck.pop()\n",
        "            print(f\"Next card: {next_card['rank']} of {next_card['suit']}\")\n",
        "\n",
        "            if (user_guess == 'h' and next_card['rank'] > current_card['rank']) or \\\n",
        "               (user_guess == 'l' and next_card['rank'] < current_card['rank']):\n",
        "                print(\"Correct! You gain 20 points.\")\n",
        "                score += 20\n",
        "            else:\n",
        "                print(\"Incorrect! You lose 15 points.\")\n",
        "                score -= 15\n",
        "\n",
        "            if next_card['rank'] == current_card['rank']:\n",
        "                print(\"Cards have the same rank. You are incorrect.\")\n",
        "                score -= 15\n",
        "\n",
        "            current_card = next_card\n",
        "\n",
        "            print(f\"Total Score: {total_score + score}\")\n",
        "\n",
        "        print(\"\\nGame Over!\")\n",
        "        print(f\"Your score for this round: {score}\")\n",
        "        total_score += score\n",
        "        print(f\"Total Score: {total_score}\")\n",
        "\n",
        "        play_again = input(\"Do you want to play another round? (Enter 'yes' or 'no'): \").lower()\n",
        "        if play_again != 'yes':\n",
        "            break\n",
        "\n",
        "    print(f\"Final Total Score: {total_score}\")\n",
        "\n",
        "# Run the game\n",
        "if __name__ == \"__main__\":\n",
        "    play_card_game()\n"
      ]
    },
    {
      "cell_type": "markdown",
      "id": "43298688",
      "metadata": {
        "id": "43298688"
      },
      "source": [
        "# ques 5"
      ]
    },
    {
      "cell_type": "code",
      "execution_count": null,
      "id": "b422d752",
      "metadata": {
        "id": "b422d752",
        "outputId": "df32b44a-7631-4cd2-ce91-5264c0e815fb"
      },
      "outputs": [
        {
          "name": "stdout",
          "output_type": "stream",
          "text": [
            "{'color': 'unknown', 'speed': 'medium', 'x_position': 19, 'y_position': 72}\n"
          ]
        }
      ],
      "source": [
        "# Create  dictionary\n",
        "car_0 = {}\n",
        "\n",
        "# Fill the dictionary with keys\n",
        "car_0['color'] = 'unknown'\n",
        "car_0['speed'] = 'medium'\n",
        "car_0['x_position'] = 10\n",
        "car_0['y_position'] = 72\n",
        "\n",
        "# Modify the dictionary based on speed\n",
        "if car_0['speed'] == 'slow':\n",
        "    car_0['x_position'] += 2\n",
        "elif car_0['speed'] == 'medium':\n",
        "    car_0['x_position'] += 9\n",
        "elif car_0['speed'] == 'fast':\n",
        "    car_0['x_position'] += 22\n",
        "\n",
        "# Print the modified dictionary\n",
        "print(car_0)\n"
      ]
    },
    {
      "cell_type": "markdown",
      "id": "06f7400b",
      "metadata": {
        "id": "06f7400b"
      },
      "source": [
        "# # ques 6"
      ]
    },
    {
      "cell_type": "code",
      "execution_count": null,
      "id": "94567a34",
      "metadata": {
        "id": "94567a34",
        "outputId": "cbcf8c35-da16-4a05-9885-005ba465d90c"
      },
      "outputs": [
        {
          "name": "stdout",
          "output_type": "stream",
          "text": [
            "Circle Area: 78.5\n",
            "Circle Perimeter: 31.400000000000002\n",
            "Square Area: 16\n",
            "Square Perimeter: 16\n"
          ]
        }
      ],
      "source": [
        "from abc import ABC, abstractmethod\n",
        "\n",
        "# Step 1: Create an abstract class\n",
        "class Shape(ABC):\n",
        "\n",
        "    @abstractmethod\n",
        "    def calculate_area(self):\n",
        "        pass\n",
        "\n",
        "    @abstractmethod\n",
        "    def calculate_perimeter(self):\n",
        "        pass\n",
        "\n",
        "# Step 2: Implement abstraction with other classes\n",
        "class Circle(Shape):\n",
        "    def __init__(self, radius):\n",
        "        self.radius = radius\n",
        "\n",
        "    def calculate_area(self):\n",
        "        return 3.14 * self.radius * self.radius\n",
        "\n",
        "    def calculate_perimeter(self):\n",
        "        return 2 * 3.14 * self.radius\n",
        "\n",
        "class Square(Shape):\n",
        "    def __init__(self, side):\n",
        "        self.side = side\n",
        "\n",
        "    def calculate_area(self):\n",
        "        return self.side * self.side\n",
        "\n",
        "    def calculate_perimeter(self):\n",
        "        return 4 * self.side\n",
        "\n",
        "# Step 3: Use the abstraction\n",
        "circle_obj = Circle(5)\n",
        "square_obj = Square(4)\n",
        "\n",
        "print(f\"Circle Area: {circle_obj.calculate_area()}\")\n",
        "print(f\"Circle Perimeter: {circle_obj.calculate_perimeter()}\")\n",
        "\n",
        "print(f\"Square Area: {square_obj.calculate_area()}\")\n",
        "print(f\"Square Perimeter: {square_obj.calculate_perimeter()}\")\n"
      ]
    },
    {
      "cell_type": "code",
      "execution_count": null,
      "id": "51a70d09",
      "metadata": {
        "id": "51a70d09",
        "outputId": "ab9d1a3c-e89f-4315-da6c-a3ba3d501e9f"
      },
      "outputs": [
        {
          "name": "stdout",
          "output_type": "stream",
          "text": [
            "Dog says: Woof!\n",
            "Cat says: Meow!\n"
          ]
        }
      ],
      "source": [
        "from abc import ABC, abstractmethod\n",
        "\n",
        "# Step 1: Create an abstract class\n",
        "class Animal(ABC):\n",
        "\n",
        "    @abstractmethod\n",
        "    def make_sound(self):\n",
        "        pass\n",
        "\n",
        "# Step 2: Implement abstraction with other classes\n",
        "class Dog(Animal):\n",
        "    def make_sound(self):\n",
        "        return \"Woof!\"\n",
        "\n",
        "class Cat(Animal):\n",
        "    def make_sound(self):\n",
        "        return \"Meow!\"\n",
        "\n",
        "# Step 3: Use the abstraction\n",
        "dog = Dog()\n",
        "cat = Cat()\n",
        "\n",
        "print(\"Dog says:\", dog.make_sound())\n",
        "print(\"Cat says:\", cat.make_sound())\n"
      ]
    },
    {
      "cell_type": "markdown",
      "id": "544b22ff",
      "metadata": {
        "id": "544b22ff"
      },
      "source": [
        "# ques 7"
      ]
    },
    {
      "cell_type": "code",
      "execution_count": null,
      "id": "50268a12",
      "metadata": {
        "id": "50268a12",
        "outputId": "62b2e702-6a42-4caa-d193-d0168e14a06c"
      },
      "outputs": [
        {
          "name": "stdout",
          "output_type": "stream",
          "text": [
            "Buddy says: Woof!\n",
            "This is a protected method of Buddy\n",
            "\n",
            "\n",
            "Whiskers says: Meow!\n",
            "This is a protected method of Whiskers\n",
            "\n",
            "\n",
            "This is a method specific to Dog (This is a protected method of Buddy)\n",
            "This is a method specific to Cat (This is a protected method of Whiskers)\n"
          ]
        }
      ],
      "source": [
        "class Animal:\n",
        "    def __init__(self, name):\n",
        "        self._name = name  # protected member\n",
        "\n",
        "    def _protected_method(self):\n",
        "        return f\"This is a protected method of {self._name}\"\n",
        "\n",
        "    def make_sound(self):\n",
        "        raise NotImplementedError(\"Subclasses must implement the make_sound method\")\n",
        "\n",
        "\n",
        "class Dog(Animal):\n",
        "    def make_sound(self):\n",
        "        return \"Woof!\"\n",
        "\n",
        "    def dog_specific_method(self):\n",
        "        return f\"This is a method specific to Dog ({self._protected_method()})\"\n",
        "\n",
        "\n",
        "class Cat(Animal):\n",
        "    def make_sound(self):\n",
        "        return \"Meow!\"\n",
        "\n",
        "    def cat_specific_method(self):\n",
        "        return f\"This is a method specific to Cat ({self._protected_method()})\"\n",
        "\n",
        "\n",
        "def demonstrate_polymorphism(animal):\n",
        "    print(f\"{animal._name} says: {animal.make_sound()}\")\n",
        "    print(animal._protected_method())  # Accessing protected member\n",
        "\n",
        "\n",
        "# Create instances of Dog and Cat\n",
        "dog = Dog(\"Buddy\")\n",
        "cat = Cat(\"Whiskers\")\n",
        "\n",
        "# Demonstrate polymorphism\n",
        "demonstrate_polymorphism(dog)\n",
        "print(\"\\n\")\n",
        "\n",
        "demonstrate_polymorphism(cat)\n",
        "print(\"\\n\")\n",
        "\n",
        "# Accessing class-specific methods\n",
        "print(dog.dog_specific_method())\n",
        "print(cat.cat_specific_method())\n"
      ]
    },
    {
      "cell_type": "markdown",
      "id": "a16f4eb7",
      "metadata": {
        "id": "a16f4eb7"
      },
      "source": [
        "# ques 8"
      ]
    },
    {
      "cell_type": "code",
      "execution_count": null,
      "id": "a3841494",
      "metadata": {
        "id": "a3841494",
        "outputId": "cbd0d9de-98a6-4c45-c717-f22d2ad5a789"
      },
      "outputs": [
        {
          "name": "stdout",
          "output_type": "stream",
          "text": [
            "[1, 4, 9, 16, 25, 36, 49, 64, 81, 100, 121, 144, 169, 196, 225, 256, 289, 324, 361, 400, 441, 484, 529, 576, 625, 676, 729, 784, 841, 900, 961, 1024, 1089, 1156, 1225, 1296, 1369, 1444, 1521, 1600, 1681, 1764, 1849, 1936, 2025, 2116, 2209, 2304, 2401, 2500]\n"
          ]
        }
      ],
      "source": [
        "# Define the list of 50 natural numbers\n",
        "numbers = list(range(1, 51))\n",
        "\n",
        "# Function to calculate the square of each element\n",
        "def square_elements(number_list):\n",
        "    return list(map(lambda x: x**2, number_list))\n",
        "\n",
        "# Use the function to get the square of each element\n",
        "squared_numbers = square_elements(numbers)\n",
        "\n",
        "print(squared_numbers)\n"
      ]
    },
    {
      "cell_type": "code",
      "execution_count": null,
      "id": "c091efd9",
      "metadata": {
        "id": "c091efd9",
        "outputId": "b6e83e79-5911-4d3f-87e3-7e43120985c0"
      },
      "outputs": [
        {
          "name": "stdout",
          "output_type": "stream",
          "text": [
            "[1, 4, 9, 16, 25, 36, 49, 64, 81, 100, 121, 144, 169, 196, 225, 256, 289, 324, 361, 400, 441, 484, 529, 576, 625, 676, 729, 784, 841, 900, 961, 1024, 1089, 1156, 1225, 1296, 1369, 1444, 1521, 1600, 1681, 1764, 1849, 1936, 2025, 2116, 2209, 2304, 2401, 2500]\n"
          ]
        }
      ],
      "source": [
        "squared_numbers = [x**2 for x in numbers]\n",
        "print(squared_numbers)"
      ]
    },
    {
      "cell_type": "markdown",
      "id": "1f750bb6",
      "metadata": {
        "id": "1f750bb6"
      },
      "source": [
        "# ques 9"
      ]
    },
    {
      "cell_type": "code",
      "execution_count": null,
      "id": "95f522c6",
      "metadata": {
        "id": "95f522c6",
        "outputId": "2cb5462c-8db8-4b6f-bb73-b10ecbe41f35"
      },
      "outputs": [
        {
          "name": "stdout",
          "output_type": "stream",
          "text": [
            "Enter the first angle: 45\n",
            "Enter the second angle: 76\n",
            "Enter the third angle: 34\n",
            "Angles of the triangle: 45.0, 76.0, 34.0\n"
          ]
        }
      ],
      "source": [
        "class Triangle:\n",
        "    def __init__(self, angle1, angle2, angle3):\n",
        "        self.angle1 = angle1\n",
        "        self.angle2 = angle2\n",
        "        self.angle3 = angle3\n",
        "\n",
        "# Example usage\n",
        "triangle = Triangle(60, 60, 60)\n",
        "print(f\"Angles of the triangle: {triangle.angle1}, {triangle.angle2}, {triangle.angle3}\")\n"
      ]
    },
    {
      "cell_type": "markdown",
      "id": "a5c21111",
      "metadata": {
        "id": "a5c21111"
      },
      "source": [
        "# ques 10"
      ]
    },
    {
      "cell_type": "code",
      "execution_count": null,
      "id": "db8ae860",
      "metadata": {
        "id": "db8ae860",
        "outputId": "95cfa514-18be-4bd8-c697-11d864498d10"
      },
      "outputs": [
        {
          "name": "stdout",
          "output_type": "stream",
          "text": [
            "Number of sides in a triangle: 3\n",
            "Enter the first angle: 34\n",
            "Enter the second angle: 34\n",
            "Enter the third angle: 34\n",
            "Angles of the triangle: 34.0, 34.0, 34.0\n"
          ]
        }
      ],
      "source": [
        "class Triangle:\n",
        "    number_of_sides = 3\n",
        "\n",
        "    def __init__(self):\n",
        "        self.angle1 = float(input(\"Enter the first angle: \"))\n",
        "        self.angle2 = float(input(\"Enter the second angle: \"))\n",
        "        self.angle3 = float(input(\"Enter the third angle: \"))\n",
        "\n",
        "# Accessing the class variable\n",
        "print(\"Number of sides in a triangle:\", Triangle.number_of_sides)\n",
        "\n",
        "# Example usage\n",
        "triangle = Triangle()\n",
        "print(f\"Angles of the triangle: {triangle.angle1}, {triangle.angle2}, {triangle.angle3}\")\n"
      ]
    },
    {
      "cell_type": "markdown",
      "id": "f2ee07d5",
      "metadata": {
        "id": "f2ee07d5"
      },
      "source": [
        "# ques 11"
      ]
    },
    {
      "cell_type": "code",
      "execution_count": null,
      "id": "9d915c0a",
      "metadata": {
        "id": "9d915c0a",
        "outputId": "48f16071-1b6d-4bc2-94fe-ed5bd8fc5794"
      },
      "outputs": [
        {
          "name": "stdout",
          "output_type": "stream",
          "text": [
            "Enter the first angle: 90\n",
            "Enter the second angle: 45\n",
            "Enter the third angle: 45\n",
            "The angles belong to a triangle.\n",
            "Enter the first angle: 90\n",
            "Enter the second angle: 45\n",
            "Enter the third angle: 45\n",
            "The angles belong to a triangle.\n",
            "Checking properties of Isosceles Triangle.\n",
            "It is an Isosceles Triangle.\n",
            "Enter the first angle: 60\n",
            "Enter the second angle: 60\n",
            "Enter the third angle: 60\n",
            "The angles belong to a triangle.\n",
            "Checking properties of Right Triangle.\n",
            "It is not a Right Triangle.\n"
          ]
        }
      ],
      "source": [
        "class Triangle:\n",
        "    number_of_sides = 3\n",
        "\n",
        "    def __init__(self):\n",
        "        self.angle1 = float(input(\"Enter the first angle: \"))\n",
        "        self.angle2 = float(input(\"Enter the second angle: \"))\n",
        "        self.angle3 = float(input(\"Enter the third angle: \"))\n",
        "\n",
        "    def check_angles(self):\n",
        "        if self.angle1 + self.angle2 + self.angle3 == 180:\n",
        "            print(\"The angles belong to a triangle.\")\n",
        "            return True\n",
        "        else:\n",
        "            print(\"The angles do not belong to a triangle.\")\n",
        "            return False\n",
        "\n",
        "    def is_acute_triangle(self):\n",
        "        angles = sorted([self.angle1, self.angle2, self.angle3])\n",
        "        return angles[0] + angles[1] > angles[2]\n",
        "\n",
        "    def is_obtuse_triangle(self):\n",
        "        angles = sorted([self.angle1, self.angle2, self.angle3])\n",
        "        return angles[0] + angles[1] < angles[2]\n",
        "\n",
        "\n",
        "class IsoscelesTriangle(Triangle):\n",
        "    def check_properties(self):\n",
        "        print(\"Checking properties of Isosceles Triangle.\")\n",
        "        if self.is_isosceles():\n",
        "            print(\"It is an Isosceles Triangle.\")\n",
        "        else:\n",
        "            print(\"It is not an Isosceles Triangle.\")\n",
        "\n",
        "    def is_isosceles(self):\n",
        "        return self.angle1 == self.angle2 or self.angle2 == self.angle3 or self.angle1 == self.angle3\n",
        "\n",
        "\n",
        "class RightTriangle(Triangle):\n",
        "    def check_properties(self):\n",
        "        print(\"Checking properties of Right Triangle.\")\n",
        "        if self.is_right_triangle():\n",
        "            print(\"It is a Right Triangle.\")\n",
        "        else:\n",
        "            print(\"It is not a Right Triangle.\")\n",
        "\n",
        "    def is_right_triangle(self):\n",
        "        angles = sorted([self.angle1, self.angle2, self.angle3])\n",
        "        return angles[0] + angles[1] == 90\n",
        "\n",
        "\n",
        "class EquilateralTriangle(Triangle):\n",
        "    def check_properties(self):\n",
        "        print(\"Checking properties of Equilateral Triangle.\")\n",
        "        if self.is_equilateral():\n",
        "            print(\"It is an Equilateral Triangle.\")\n",
        "        else:\n",
        "            print(\"It is not an Equilateral Triangle.\")\n",
        "\n",
        "    def is_equilateral(self):\n",
        "        return self.angle1 == self.angle2 == self.angle3\n",
        "\n",
        "\n",
        "# Example usage\n",
        "triangle_instance = Triangle()\n",
        "triangle_instance.check_angles()\n",
        "\n",
        "# Create instances of child classes\n",
        "isosceles_triangle = IsoscelesTriangle()\n",
        "isosceles_triangle.check_angles()\n",
        "isosceles_triangle.check_properties()\n",
        "\n",
        "right_triangle = RightTriangle()\n",
        "right_triangle.check_angles()\n",
        "right_triangle.check_properties()\n",
        "\n",
        "equilateral_triangle = EquilateralTriangle()\n",
        "equilateral_triangle.check_angles()\n",
        "equilateral_triangle.check_properties()\n"
      ]
    },
    {
      "cell_type": "markdown",
      "id": "aa21a923",
      "metadata": {
        "id": "aa21a923"
      },
      "source": [
        "# ques 12\n"
      ]
    },
    {
      "cell_type": "code",
      "execution_count": null,
      "id": "925c503d",
      "metadata": {
        "id": "925c503d",
        "outputId": "ead03478-e42e-4fe1-e35e-87493b5a50b3"
      },
      "outputs": [
        {
          "name": "stdout",
          "output_type": "stream",
          "text": [
            "Enter the first angle: 90\n",
            "Enter the second angle: 45\n",
            "Enter the third angle: 45\n",
            "The angles belong to a triangle.\n",
            "Checking properties of Isosceles Right Triangle.\n",
            "It is an Isosceles Right Triangle.\n"
          ]
        }
      ],
      "source": [
        "class Triangle:\n",
        "    number_of_sides = 3\n",
        "\n",
        "    def __init__(self):\n",
        "        self.angle1 = float(input(\"Enter the first angle: \"))\n",
        "        self.angle2 = float(input(\"Enter the second angle: \"))\n",
        "        self.angle3 = float(input(\"Enter the third angle: \"))\n",
        "\n",
        "    def check_angles(self):\n",
        "        if self.angle1 + self.angle2 + self.angle3 == 180:\n",
        "            print(\"The angles belong to a triangle.\")\n",
        "            return True\n",
        "        else:\n",
        "            print(\"The angles do not belong to a triangle.\")\n",
        "            return False\n",
        "\n",
        "    def is_acute_triangle(self):\n",
        "        angles = sorted([self.angle1, self.angle2, self.angle3])\n",
        "        return angles[0] + angles[1] > angles[2]\n",
        "\n",
        "    def is_obtuse_triangle(self):\n",
        "        angles = sorted([self.angle1, self.angle2, self.angle3])\n",
        "        return angles[0] + angles[1] < angles[2]\n",
        "\n",
        "\n",
        "class IsoscelesTriangle(Triangle):\n",
        "    def check_properties(self):\n",
        "        print(\"Checking properties of Isosceles Triangle.\")\n",
        "        if self.is_isosceles():\n",
        "            print(\"It is an Isosceles Triangle.\")\n",
        "        else:\n",
        "            print(\"It is not an Isosceles Triangle.\")\n",
        "\n",
        "    def is_isosceles(self):\n",
        "        return self.angle1 == self.angle2 or self.angle2 == self.angle3 or self.angle1 == self.angle3\n",
        "\n",
        "\n",
        "class RightTriangle(Triangle):\n",
        "    def check_properties(self):\n",
        "        print(\"Checking properties of Right Triangle.\")\n",
        "        if self.is_right_triangle():\n",
        "            print(\"It is a Right Triangle.\")\n",
        "        else:\n",
        "            print(\"It is not a Right Triangle.\")\n",
        "\n",
        "    def is_right_triangle(self):\n",
        "        angles = sorted([self.angle1, self.angle2, self.angle3])\n",
        "        return angles[0] + angles[1] == 90\n",
        "\n",
        "\n",
        "class EquilateralTriangle(Triangle):\n",
        "    def check_properties(self):\n",
        "        print(\"Checking properties of Equilateral Triangle.\")\n",
        "        if self.is_equilateral():\n",
        "            print(\"It is an Equilateral Triangle.\")\n",
        "        else:\n",
        "            print(\"It is not an Equilateral Triangle.\")\n",
        "\n",
        "    def is_equilateral(self):\n",
        "        return self.angle1 == self.angle2 == self.angle3\n",
        "\n",
        "\n",
        "class IsoscelesRightTriangle(IsoscelesTriangle, RightTriangle):\n",
        "    def __init__(self):\n",
        "        super().__init__()\n",
        "\n",
        "    def check_properties(self):\n",
        "        print(\"Checking properties of Isosceles Right Triangle.\")\n",
        "        if self.is_isosceles() and self.is_right_triangle():\n",
        "            print(\"It is an Isosceles Right Triangle.\")\n",
        "        else:\n",
        "            print(\"It is not an Isosceles Right Triangle.\")\n",
        "\n",
        "# Example usage\n",
        "isosceles_right_triangle = IsoscelesRightTriangle()\n",
        "isosceles_right_triangle.check_angles()\n",
        "isosceles_right_triangle.check_properties()\n"
      ]
    },
    {
      "cell_type": "code",
      "execution_count": null,
      "id": "73685916",
      "metadata": {
        "id": "73685916"
      },
      "outputs": [],
      "source": []
    },
    {
      "cell_type": "code",
      "execution_count": null,
      "id": "599b89e3",
      "metadata": {
        "id": "599b89e3"
      },
      "outputs": [],
      "source": []
    }
  ],
  "metadata": {
    "kernelspec": {
      "display_name": "Python 3",
      "name": "python3"
    },
    "language_info": {
      "codemirror_mode": {
        "name": "ipython",
        "version": 3
      },
      "file_extension": ".py",
      "mimetype": "text/x-python",
      "name": "python",
      "nbconvert_exporter": "python",
      "pygments_lexer": "ipython3",
      "version": "3.11.5"
    },
    "colab": {
      "provenance": [],
      "toc_visible": true,
      "include_colab_link": true
    }
  },
  "nbformat": 4,
  "nbformat_minor": 5
}